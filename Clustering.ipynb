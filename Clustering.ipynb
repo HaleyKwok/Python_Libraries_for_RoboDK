{
 "cells": [
  {
   "cell_type": "code",
   "execution_count": 54,
   "metadata": {
    "pycharm": {
     "name": "#%%\n"
    }
   },
   "outputs": [],
   "source": [
    "import numpy as np\n",
    "import pandas as pd\n",
    "from matplotlib import pyplot as plt\n",
    "%matplotlib inline"
   ]
  },
  {
   "cell_type": "code",
   "execution_count": 55,
   "metadata": {
    "pycharm": {
     "name": "#%%\n"
    }
   },
   "outputs": [
    {
     "data": {
      "text/html": [
       "<div>\n",
       "<style scoped>\n",
       "    .dataframe tbody tr th:only-of-type {\n",
       "        vertical-align: middle;\n",
       "    }\n",
       "\n",
       "    .dataframe tbody tr th {\n",
       "        vertical-align: top;\n",
       "    }\n",
       "\n",
       "    .dataframe thead th {\n",
       "        text-align: right;\n",
       "    }\n",
       "</style>\n",
       "<table border=\"1\" class=\"dataframe\">\n",
       "  <thead>\n",
       "    <tr style=\"text-align: right;\">\n",
       "      <th></th>\n",
       "      <th>Brand</th>\n",
       "      <th>Model</th>\n",
       "      <th>Axes</th>\n",
       "      <th>Reach (mm)</th>\n",
       "      <th>Payload (kg)</th>\n",
       "      <th>Weight (kg)</th>\n",
       "      <th>Repeatability (mm)</th>\n",
       "    </tr>\n",
       "  </thead>\n",
       "  <tbody>\n",
       "    <tr>\n",
       "      <th>0</th>\n",
       "      <td>Fanuc</td>\n",
       "      <td>LR Mate 200iC/5H</td>\n",
       "      <td>5</td>\n",
       "      <td>704</td>\n",
       "      <td>5</td>\n",
       "      <td>28</td>\n",
       "      <td>0.02</td>\n",
       "    </tr>\n",
       "    <tr>\n",
       "      <th>1</th>\n",
       "      <td>Kawasaki</td>\n",
       "      <td>RD80N</td>\n",
       "      <td>5</td>\n",
       "      <td>2100</td>\n",
       "      <td>80</td>\n",
       "      <td>555</td>\n",
       "      <td>0.07</td>\n",
       "    </tr>\n",
       "    <tr>\n",
       "      <th>2</th>\n",
       "      <td>KUKA</td>\n",
       "      <td>KR 1000 L950 titan PA</td>\n",
       "      <td>5</td>\n",
       "      <td>3601</td>\n",
       "      <td>950</td>\n",
       "      <td>4740</td>\n",
       "      <td>0.2</td>\n",
       "    </tr>\n",
       "    <tr>\n",
       "      <th>3</th>\n",
       "      <td>KUKA</td>\n",
       "      <td>KR 1000 L1300 titan PA</td>\n",
       "      <td>5</td>\n",
       "      <td>3202</td>\n",
       "      <td>1300</td>\n",
       "      <td>4690</td>\n",
       "      <td>0.2</td>\n",
       "    </tr>\n",
       "    <tr>\n",
       "      <th>4</th>\n",
       "      <td>KUKA</td>\n",
       "      <td>youBot</td>\n",
       "      <td>5</td>\n",
       "      <td>901</td>\n",
       "      <td>10</td>\n",
       "      <td>52</td>\n",
       "      <td>0.03</td>\n",
       "    </tr>\n",
       "    <tr>\n",
       "      <th>...</th>\n",
       "      <td>...</td>\n",
       "      <td>...</td>\n",
       "      <td>...</td>\n",
       "      <td>...</td>\n",
       "      <td>...</td>\n",
       "      <td>...</td>\n",
       "      <td>...</td>\n",
       "    </tr>\n",
       "    <tr>\n",
       "      <th>692</th>\n",
       "      <td>Yaskawa Motoman</td>\n",
       "      <td>UP20</td>\n",
       "      <td>6</td>\n",
       "      <td>1658</td>\n",
       "      <td>20</td>\n",
       "      <td>280</td>\n",
       "      <td>0.06</td>\n",
       "    </tr>\n",
       "    <tr>\n",
       "      <th>693</th>\n",
       "      <td>Yaskawa Motoman</td>\n",
       "      <td>UP20M</td>\n",
       "      <td>6</td>\n",
       "      <td>3106</td>\n",
       "      <td>20</td>\n",
       "      <td>495</td>\n",
       "      <td>0.15</td>\n",
       "    </tr>\n",
       "    <tr>\n",
       "      <th>694</th>\n",
       "      <td>Yaskawa Motoman</td>\n",
       "      <td>UP50N</td>\n",
       "      <td>6</td>\n",
       "      <td>2046</td>\n",
       "      <td>50</td>\n",
       "      <td>550</td>\n",
       "      <td>0.07</td>\n",
       "    </tr>\n",
       "    <tr>\n",
       "      <th>695</th>\n",
       "      <td>Yaskawa Motoman</td>\n",
       "      <td>UP200</td>\n",
       "      <td>6</td>\n",
       "      <td>2446</td>\n",
       "      <td>200</td>\n",
       "      <td>1350</td>\n",
       "      <td>0.2</td>\n",
       "    </tr>\n",
       "    <tr>\n",
       "      <th>696</th>\n",
       "      <td>Yaskawa Motoman</td>\n",
       "      <td>UP350</td>\n",
       "      <td>6</td>\n",
       "      <td>2542</td>\n",
       "      <td>350</td>\n",
       "      <td>1350</td>\n",
       "      <td>0.5</td>\n",
       "    </tr>\n",
       "  </tbody>\n",
       "</table>\n",
       "<p>697 rows × 7 columns</p>\n",
       "</div>"
      ],
      "text/plain": [
       "              Brand                   Model   Axes  Reach (mm) Payload (kg)  \\\n",
       "0             Fanuc        LR Mate 200iC/5H       5        704            5   \n",
       "1           Kawasaki                   RD80N      5       2100           80   \n",
       "2               KUKA   KR 1000 L950 titan PA      5       3601          950   \n",
       "3               KUKA  KR 1000 L1300 titan PA      5       3202         1300   \n",
       "4               KUKA                  youBot      5        901           10   \n",
       "..               ...                     ...    ...        ...          ...   \n",
       "692  Yaskawa Motoman                    UP20      6       1658           20   \n",
       "693  Yaskawa Motoman                   UP20M      6       3106           20   \n",
       "694  Yaskawa Motoman                   UP50N      6       2046           50   \n",
       "695  Yaskawa Motoman                   UP200      6       2446          200   \n",
       "696  Yaskawa Motoman                   UP350      6       2542          350   \n",
       "\n",
       "    Weight (kg) Repeatability (mm)  \n",
       "0            28               0.02  \n",
       "1           555               0.07  \n",
       "2          4740                0.2  \n",
       "3          4690                0.2  \n",
       "4            52               0.03  \n",
       "..          ...                ...  \n",
       "692         280               0.06  \n",
       "693         495               0.15  \n",
       "694         550               0.07  \n",
       "695        1350                0.2  \n",
       "696        1350                0.5  \n",
       "\n",
       "[697 rows x 7 columns]"
      ]
     },
     "execution_count": 55,
     "metadata": {},
     "output_type": "execute_result"
    }
   ],
   "source": [
    "df1 = pd.read_excel(\"/Users/haleyk/Documents/RoboDK/Python_Libraries_for_RoboDK/RoboDK.xlsx\")\n",
    "df1"
   ]
  },
  {
   "cell_type": "code",
   "execution_count": 56,
   "metadata": {},
   "outputs": [
    {
     "data": {
      "text/plain": [
       "0     704\n",
       "1    2100\n",
       "2    3601\n",
       "3    3202\n",
       "4     901\n",
       "Name: Reach (mm), dtype: object"
      ]
     },
     "execution_count": 56,
     "metadata": {},
     "output_type": "execute_result"
    }
   ],
   "source": [
    "df1['Reach (mm)'].head()"
   ]
  },
  {
   "cell_type": "code",
   "execution_count": 57,
   "metadata": {},
   "outputs": [
    {
     "data": {
      "text/plain": [
       "Index(['Brand ', 'Model ', 'Axes ', 'Reach (mm)', 'Payload (kg)',\n",
       "       'Weight (kg)', 'Repeatability (mm)'],\n",
       "      dtype='object')"
      ]
     },
     "execution_count": 57,
     "metadata": {},
     "output_type": "execute_result"
    }
   ],
   "source": [
    "df1.columns"
   ]
  },
  {
   "cell_type": "code",
   "execution_count": 58,
   "metadata": {},
   "outputs": [
    {
     "data": {
      "text/plain": [
       "Brand \n",
       "ABB                  69\n",
       "AUBO                  3\n",
       "Adept                 4\n",
       "Agilebot              1\n",
       "Annin Robotics        3\n",
       "Automata              1\n",
       "BORUNTE               1\n",
       "CLOOS                 1\n",
       "CPR                   1\n",
       "CRS                   2\n",
       "Comau                26\n",
       "Denso                 9\n",
       "Dobot                 4\n",
       "Doosan                8\n",
       "ESI                   2\n",
       "Efort                 2\n",
       "Elibot                3\n",
       "Epson                10\n",
       "Estun                 3\n",
       "Fanuc                72\n",
       "Fanuc                 1\n",
       "Foxbot                2\n",
       "Franka                1\n",
       "Fruitcore             1\n",
       "GMF                   1\n",
       "GSK                   9\n",
       "HIWIN                 7\n",
       "HSR                   2\n",
       "Han's                 6\n",
       "Hanwha                3\n",
       "Hyundai Robotics     12\n",
       "Jaka                  9\n",
       "KUKA                131\n",
       "Kawasaki             41\n",
       "Kinova                4\n",
       "Leantec              13\n",
       "Mecademic             1\n",
       "Mitsubishi           30\n",
       "Nachi                19\n",
       "Niryo                 1\n",
       "OTC Daihen           10\n",
       "Omron                 8\n",
       "PUMA                  1\n",
       "Panasonic             4\n",
       "Precise               1\n",
       "QJAR                  1\n",
       "Rainbow Robotics      4\n",
       "Reis                  2\n",
       "RoboDK                2\n",
       "Robostar              3\n",
       "Rokae                 8\n",
       "Siasun                8\n",
       "Staubli              33\n",
       "Techman Robot         8\n",
       "Toshiba               4\n",
       "Universal Robots      7\n",
       "Yaskawa Motoman      72\n",
       "uFactory              2\n",
       "Name: Brand , dtype: int64"
      ]
     },
     "execution_count": 58,
     "metadata": {},
     "output_type": "execute_result"
    }
   ],
   "source": [
    "df1.groupby('Brand ')['Brand '].count()"
   ]
  },
  {
   "cell_type": "markdown",
   "metadata": {},
   "source": []
  },
  {
   "cell_type": "code",
   "execution_count": 59,
   "metadata": {},
   "outputs": [
    {
     "data": {
      "text/html": [
       "<div>\n",
       "<style scoped>\n",
       "    .dataframe tbody tr th:only-of-type {\n",
       "        vertical-align: middle;\n",
       "    }\n",
       "\n",
       "    .dataframe tbody tr th {\n",
       "        vertical-align: top;\n",
       "    }\n",
       "\n",
       "    .dataframe thead th {\n",
       "        text-align: right;\n",
       "    }\n",
       "</style>\n",
       "<table border=\"1\" class=\"dataframe\">\n",
       "  <thead>\n",
       "    <tr style=\"text-align: right;\">\n",
       "      <th></th>\n",
       "      <th>Brand</th>\n",
       "      <th>Model</th>\n",
       "      <th>Axes</th>\n",
       "      <th>Reach (mm)</th>\n",
       "      <th>Payload (kg)</th>\n",
       "      <th>Weight (kg)</th>\n",
       "      <th>Repeatability (mm)</th>\n",
       "    </tr>\n",
       "  </thead>\n",
       "  <tbody>\n",
       "    <tr>\n",
       "      <th>0</th>\n",
       "      <td>Fanuc</td>\n",
       "      <td>LR Mate 200iC/5H</td>\n",
       "      <td>5</td>\n",
       "      <td>704</td>\n",
       "      <td>5</td>\n",
       "      <td>28</td>\n",
       "      <td>0.02</td>\n",
       "    </tr>\n",
       "    <tr>\n",
       "      <th>1</th>\n",
       "      <td>Kawasaki</td>\n",
       "      <td>RD80N</td>\n",
       "      <td>5</td>\n",
       "      <td>2100</td>\n",
       "      <td>80</td>\n",
       "      <td>555</td>\n",
       "      <td>0.07</td>\n",
       "    </tr>\n",
       "    <tr>\n",
       "      <th>2</th>\n",
       "      <td>KUKA</td>\n",
       "      <td>KR 1000 L950 titan PA</td>\n",
       "      <td>5</td>\n",
       "      <td>3601</td>\n",
       "      <td>950</td>\n",
       "      <td>4740</td>\n",
       "      <td>0.2</td>\n",
       "    </tr>\n",
       "    <tr>\n",
       "      <th>3</th>\n",
       "      <td>KUKA</td>\n",
       "      <td>KR 1000 L1300 titan PA</td>\n",
       "      <td>5</td>\n",
       "      <td>3202</td>\n",
       "      <td>1300</td>\n",
       "      <td>4690</td>\n",
       "      <td>0.2</td>\n",
       "    </tr>\n",
       "    <tr>\n",
       "      <th>4</th>\n",
       "      <td>KUKA</td>\n",
       "      <td>youBot</td>\n",
       "      <td>5</td>\n",
       "      <td>901</td>\n",
       "      <td>10</td>\n",
       "      <td>52</td>\n",
       "      <td>0.03</td>\n",
       "    </tr>\n",
       "    <tr>\n",
       "      <th>...</th>\n",
       "      <td>...</td>\n",
       "      <td>...</td>\n",
       "      <td>...</td>\n",
       "      <td>...</td>\n",
       "      <td>...</td>\n",
       "      <td>...</td>\n",
       "      <td>...</td>\n",
       "    </tr>\n",
       "    <tr>\n",
       "      <th>692</th>\n",
       "      <td>Yaskawa Motoman</td>\n",
       "      <td>UP20</td>\n",
       "      <td>6</td>\n",
       "      <td>1658</td>\n",
       "      <td>20</td>\n",
       "      <td>280</td>\n",
       "      <td>0.06</td>\n",
       "    </tr>\n",
       "    <tr>\n",
       "      <th>693</th>\n",
       "      <td>Yaskawa Motoman</td>\n",
       "      <td>UP20M</td>\n",
       "      <td>6</td>\n",
       "      <td>3106</td>\n",
       "      <td>20</td>\n",
       "      <td>495</td>\n",
       "      <td>0.15</td>\n",
       "    </tr>\n",
       "    <tr>\n",
       "      <th>694</th>\n",
       "      <td>Yaskawa Motoman</td>\n",
       "      <td>UP50N</td>\n",
       "      <td>6</td>\n",
       "      <td>2046</td>\n",
       "      <td>50</td>\n",
       "      <td>550</td>\n",
       "      <td>0.07</td>\n",
       "    </tr>\n",
       "    <tr>\n",
       "      <th>695</th>\n",
       "      <td>Yaskawa Motoman</td>\n",
       "      <td>UP200</td>\n",
       "      <td>6</td>\n",
       "      <td>2446</td>\n",
       "      <td>200</td>\n",
       "      <td>1350</td>\n",
       "      <td>0.2</td>\n",
       "    </tr>\n",
       "    <tr>\n",
       "      <th>696</th>\n",
       "      <td>Yaskawa Motoman</td>\n",
       "      <td>UP350</td>\n",
       "      <td>6</td>\n",
       "      <td>2542</td>\n",
       "      <td>350</td>\n",
       "      <td>1350</td>\n",
       "      <td>0.5</td>\n",
       "    </tr>\n",
       "  </tbody>\n",
       "</table>\n",
       "<p>697 rows × 7 columns</p>\n",
       "</div>"
      ],
      "text/plain": [
       "              Brand                   Model   Axes  Reach (mm) Payload (kg)  \\\n",
       "0             Fanuc        LR Mate 200iC/5H       5        704            5   \n",
       "1           Kawasaki                   RD80N      5       2100           80   \n",
       "2               KUKA   KR 1000 L950 titan PA      5       3601          950   \n",
       "3               KUKA  KR 1000 L1300 titan PA      5       3202         1300   \n",
       "4               KUKA                  youBot      5        901           10   \n",
       "..               ...                     ...    ...        ...          ...   \n",
       "692  Yaskawa Motoman                    UP20      6       1658           20   \n",
       "693  Yaskawa Motoman                   UP20M      6       3106           20   \n",
       "694  Yaskawa Motoman                   UP50N      6       2046           50   \n",
       "695  Yaskawa Motoman                   UP200      6       2446          200   \n",
       "696  Yaskawa Motoman                   UP350      6       2542          350   \n",
       "\n",
       "    Weight (kg) Repeatability (mm)  \n",
       "0            28               0.02  \n",
       "1           555               0.07  \n",
       "2          4740                0.2  \n",
       "3          4690                0.2  \n",
       "4            52               0.03  \n",
       "..          ...                ...  \n",
       "692         280               0.06  \n",
       "693         495               0.15  \n",
       "694         550               0.07  \n",
       "695        1350                0.2  \n",
       "696        1350                0.5  \n",
       "\n",
       "[697 rows x 7 columns]"
      ]
     },
     "execution_count": 59,
     "metadata": {},
     "output_type": "execute_result"
    }
   ],
   "source": [
    "df2 = df1.fillna('0')\n",
    "df2"
   ]
  },
  {
   "cell_type": "code",
   "execution_count": 60,
   "metadata": {},
   "outputs": [],
   "source": [
    "X = df2.iloc[:, [2,6]].values"
   ]
  },
  {
   "cell_type": "code",
   "execution_count": 61,
   "metadata": {
    "pycharm": {
     "name": "#%%\n"
    }
   },
   "outputs": [
    {
     "data": {
      "image/png": "[encoded data removed]",
      "text/plain": [
       "<Figure size 640x480 with 1 Axes>"
      ]
     },
     "metadata": {},
     "output_type": "display_data"
    }
   ],
   "source": [
    "from sklearn.cluster import KMeans \n",
    "wcss_list = []\n",
    "\n",
    "for i in range(1,11):\n",
    "    kmeans = KMeans(n_clusters = i, init = 'k-means++', random_state = 50)\n",
    "    kmeans.fit(X)\n",
    "    wcss_list.append(kmeans.inertia_)\n",
    "plt.plot(range(1,11), wcss_list)\n",
    "plt.title('The Elbow Method')\n",
    "plt.xlabel('Number of Clusters')\n",
    "plt.ylabel('WCSS')\n",
    "plt.show()\n"
   ]
  },
  {
   "cell_type": "code",
   "execution_count": 62,
   "metadata": {},
   "outputs": [],
   "source": [
    "kmeans = KMeans(n_clusters=3, init='k-means++', random_state= 50)  \n",
    "y_predict= kmeans.fit_predict(X)  "
   ]
  },
  {
   "cell_type": "code",
   "execution_count": 63,
   "metadata": {
    "pycharm": {
     "name": "#%%\n"
    }
   },
   "outputs": [
    {
     "data": {
      "image/png": "[encoded data removed]",
      "text/plain": [
       "<Figure size 640x480 with 1 Axes>"
      ]
     },
     "metadata": {},
     "output_type": "display_data"
    }
   ],
   "source": [
    "# Visualising the clusters\n",
    "plt.scatter(X[y_predict == 0,0], X[y_predict == 0,1], s = 100, c ='red', label ='Cluster 1')\n",
    "plt.scatter(X[y_predict == 1,0], X[y_predict == 1,1], s = 100, c ='blue', label ='Cluster 2')\n",
    "plt.scatter(X[y_predict == 2,0], X[y_predict == 2,1], s = 100, c ='green', label ='Cluster 3')\n",
    "plt.scatter(kmeans.cluster_centers_[:,0], kmeans.cluster_centers_[:,1], s = 300, c ='yellow', label ='Centroids')\n",
    "plt.title('Clusters of RoboDK')\n",
    "plt.xlabel('Reach (mm)')\n",
    "plt.ylabel('Weight (kg)')\n",
    "plt.legend()\n",
    "plt.show()"
   ]
  },
  {
   "cell_type": "code",
   "execution_count": null,
   "metadata": {
    "pycharm": {
     "name": "#%%\n"
    }
   },
   "outputs": [],
   "source": []
  },
  {
   "cell_type": "code",
   "execution_count": null,
   "metadata": {
    "collapsed": false,
    "pycharm": {
     "name": "#%%\n"
    }
   },
   "outputs": [],
   "source": []
  },
  {
   "cell_type": "code",
   "execution_count": null,
   "metadata": {
    "pycharm": {
     "name": "#%%\n"
    }
   },
   "outputs": [],
   "source": []
  },
  {
   "cell_type": "code",
   "execution_count": null,
   "metadata": {
    "pycharm": {
     "name": "#%%\n"
    }
   },
   "outputs": [],
   "source": []
  },
  {
   "cell_type": "code",
   "execution_count": null,
   "metadata": {
    "pycharm": {
     "name": "#%%\n"
    }
   },
   "outputs": [],
   "source": []
  }
 ],
 "metadata": {
  "kernelspec": {
   "display_name": "Python 3.8.12 ('codebasics')",
   "language": "python",
   "name": "python3"
  },
  "language_info": {
   "codemirror_mode": {
    "name": "ipython",
    "version": 3
   },
   "file_extension": ".py",
   "mimetype": "text/x-python",
   "name": "python",
   "nbconvert_exporter": "python",
   "pygments_lexer": "ipython3",
   "version": "3.8.12"
  },
  "orig_nbformat": 4,
  "vscode": {
   "interpreter": {
    "hash": "431248cac49f90a2d4ed37a39ff269f2748451fea3bd4a2a97ed208bf87d0a17"
   }
  }
 },
 "nbformat": 4,
 "nbformat_minor": 2
}
