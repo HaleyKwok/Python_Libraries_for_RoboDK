{
 "cells": [
  {
   "cell_type": "code",
   "execution_count": 44,
   "metadata": {
    "pycharm": {
     "name": "#%%\n"
    }
   },
   "outputs": [
    {
     "name": "stderr",
     "output_type": "stream",
     "text": [
      "UsageError: Line magic function `%matplotliub` not found.\n"
     ]
    }
   ],
   "source": [
    "import numpy as np\n",
    "import pandas as pd\n",
    "import matplotlib.pyplot as plt\n",
    "%matplotliub inline"
   ]
  },
  {
   "cell_type": "code",
   "execution_count": 45,
   "metadata": {
    "pycharm": {
     "name": "#%%\n"
    }
   },
   "outputs": [
    {
     "data": {
      "text/html": [
       "<div>\n",
       "<style scoped>\n",
       "    .dataframe tbody tr th:only-of-type {\n",
       "        vertical-align: middle;\n",
       "    }\n",
       "\n",
       "    .dataframe tbody tr th {\n",
       "        vertical-align: top;\n",
       "    }\n",
       "\n",
       "    .dataframe thead th {\n",
       "        text-align: right;\n",
       "    }\n",
       "</style>\n",
       "<table border=\"1\" class=\"dataframe\">\n",
       "  <thead>\n",
       "    <tr style=\"text-align: right;\">\n",
       "      <th></th>\n",
       "      <th>Brand</th>\n",
       "      <th>Model</th>\n",
       "      <th>Axes</th>\n",
       "      <th>Reach</th>\n",
       "      <th>Payload</th>\n",
       "      <th>Weight</th>\n",
       "      <th>Repeatability</th>\n",
       "    </tr>\n",
       "  </thead>\n",
       "  <tbody>\n",
       "    <tr>\n",
       "      <th>0</th>\n",
       "      <td>Fanuc</td>\n",
       "      <td>LR Mate 200iC/5H</td>\n",
       "      <td>5</td>\n",
       "      <td>704 mm</td>\n",
       "      <td>5 kg</td>\n",
       "      <td>28 kg</td>\n",
       "      <td>0.020 mm</td>\n",
       "    </tr>\n",
       "    <tr>\n",
       "      <th>1</th>\n",
       "      <td>Kawasaki</td>\n",
       "      <td>RD80N</td>\n",
       "      <td>5</td>\n",
       "      <td>2100 mm</td>\n",
       "      <td>80 kg</td>\n",
       "      <td>555 kg</td>\n",
       "      <td>0.070 mm</td>\n",
       "    </tr>\n",
       "    <tr>\n",
       "      <th>2</th>\n",
       "      <td>KUKA</td>\n",
       "      <td>KR 1000 L950 titan PA</td>\n",
       "      <td>5</td>\n",
       "      <td>3601 mm</td>\n",
       "      <td>950 kg</td>\n",
       "      <td>4740 kg</td>\n",
       "      <td>0.200 mm</td>\n",
       "    </tr>\n",
       "    <tr>\n",
       "      <th>3</th>\n",
       "      <td>KUKA</td>\n",
       "      <td>KR 1000 L1300 titan PA</td>\n",
       "      <td>5</td>\n",
       "      <td>3202 mm</td>\n",
       "      <td>1300 kg</td>\n",
       "      <td>4690 kg</td>\n",
       "      <td>0.200 mm</td>\n",
       "    </tr>\n",
       "    <tr>\n",
       "      <th>4</th>\n",
       "      <td>KUKA</td>\n",
       "      <td>youBot</td>\n",
       "      <td>5</td>\n",
       "      <td>901 mm</td>\n",
       "      <td>10 kg</td>\n",
       "      <td>52 kg</td>\n",
       "      <td>0.030 mm</td>\n",
       "    </tr>\n",
       "    <tr>\n",
       "      <th>...</th>\n",
       "      <td>...</td>\n",
       "      <td>...</td>\n",
       "      <td>...</td>\n",
       "      <td>...</td>\n",
       "      <td>...</td>\n",
       "      <td>...</td>\n",
       "      <td>...</td>\n",
       "    </tr>\n",
       "    <tr>\n",
       "      <th>692</th>\n",
       "      <td>Yaskawa Motoman</td>\n",
       "      <td>UP20</td>\n",
       "      <td>6</td>\n",
       "      <td>1658 mm</td>\n",
       "      <td>20 kg</td>\n",
       "      <td>280 kg</td>\n",
       "      <td>0.060 mm</td>\n",
       "    </tr>\n",
       "    <tr>\n",
       "      <th>693</th>\n",
       "      <td>Yaskawa Motoman</td>\n",
       "      <td>UP20M</td>\n",
       "      <td>6</td>\n",
       "      <td>3106 mm</td>\n",
       "      <td>20 kg</td>\n",
       "      <td>495 kg</td>\n",
       "      <td>0.150 mm</td>\n",
       "    </tr>\n",
       "    <tr>\n",
       "      <th>694</th>\n",
       "      <td>Yaskawa Motoman</td>\n",
       "      <td>UP50N</td>\n",
       "      <td>6</td>\n",
       "      <td>2046 mm</td>\n",
       "      <td>50 kg</td>\n",
       "      <td>550 kg</td>\n",
       "      <td>0.070 mm</td>\n",
       "    </tr>\n",
       "    <tr>\n",
       "      <th>695</th>\n",
       "      <td>Yaskawa Motoman</td>\n",
       "      <td>UP200</td>\n",
       "      <td>6</td>\n",
       "      <td>2446 mm</td>\n",
       "      <td>200 kg</td>\n",
       "      <td>1350 kg</td>\n",
       "      <td>0.200 mm</td>\n",
       "    </tr>\n",
       "    <tr>\n",
       "      <th>696</th>\n",
       "      <td>Yaskawa Motoman</td>\n",
       "      <td>UP350</td>\n",
       "      <td>6</td>\n",
       "      <td>2542 mm</td>\n",
       "      <td>350 kg</td>\n",
       "      <td>1350 kg</td>\n",
       "      <td>0.500 mm</td>\n",
       "    </tr>\n",
       "  </tbody>\n",
       "</table>\n",
       "<p>697 rows × 7 columns</p>\n",
       "</div>"
      ],
      "text/plain": [
       "              Brand                   Model   Axes     Reach  Payload   \\\n",
       "0             Fanuc        LR Mate 200iC/5H       5    704 mm     5 kg   \n",
       "1           Kawasaki                   RD80N      5   2100 mm    80 kg   \n",
       "2               KUKA   KR 1000 L950 titan PA      5  3601 mm    950 kg   \n",
       "3               KUKA  KR 1000 L1300 titan PA      5   3202 mm  1300 kg   \n",
       "4               KUKA                  youBot      5    901 mm    10 kg   \n",
       "..               ...                     ...    ...       ...      ...   \n",
       "692  Yaskawa Motoman                    UP20      6   1658 mm    20 kg   \n",
       "693  Yaskawa Motoman                   UP20M      6   3106 mm    20 kg   \n",
       "694  Yaskawa Motoman                   UP50N      6   2046 mm    50 kg   \n",
       "695  Yaskawa Motoman                   UP200      6   2446 mm   200 kg   \n",
       "696  Yaskawa Motoman                   UP350      6   2542 mm   350 kg   \n",
       "\n",
       "     Weight  Repeatability   \n",
       "0      28 kg       0.020 mm  \n",
       "1     555 kg       0.070 mm  \n",
       "2    4740 kg       0.200 mm  \n",
       "3    4690 kg       0.200 mm  \n",
       "4      52 kg       0.030 mm  \n",
       "..       ...            ...  \n",
       "692   280 kg       0.060 mm  \n",
       "693   495 kg       0.150 mm  \n",
       "694   550 kg       0.070 mm  \n",
       "695  1350 kg       0.200 mm  \n",
       "696  1350 kg       0.500 mm  \n",
       "\n",
       "[697 rows x 7 columns]"
      ]
     },
     "execution_count": 45,
     "metadata": {},
     "output_type": "execute_result"
    }
   ],
   "source": [
    "df1 = pd.read_excel(\"/Users/haleyk/Documents/RoboDK/Python_Libraries_for_RoboDK/RoboDK_revised.xlsx\")\n",
    "df1"
   ]
  },
  {
   "cell_type": "code",
   "execution_count": 46,
   "metadata": {
    "pycharm": {
     "name": "#%%\n"
    }
   },
   "outputs": [],
   "source": [
    "from sklearn.cluster import KMeans \n",
    "import pandas as pd\n",
    "from sklearn.preprocessing import MinMaxScaler"
   ]
  },
  {
   "cell_type": "code",
   "execution_count": 47,
   "metadata": {
    "pycharm": {
     "name": "#%%\n"
    }
   },
   "outputs": [
    {
     "ename": "KeyError",
     "evalue": "'Axes'",
     "output_type": "error",
     "traceback": [
      "\u001B[0;31m---------------------------------------------------------------------------\u001B[0m",
      "\u001B[0;31mKeyError\u001B[0m                                  Traceback (most recent call last)",
      "File \u001B[0;32m~/codebasics/lib/python3.8/site-packages/pandas/core/indexes/base.py:3621\u001B[0m, in \u001B[0;36mIndex.get_loc\u001B[0;34m(self, key, method, tolerance)\u001B[0m\n\u001B[1;32m   3620\u001B[0m \u001B[39mtry\u001B[39;00m:\n\u001B[0;32m-> 3621\u001B[0m     \u001B[39mreturn\u001B[39;00m \u001B[39mself\u001B[39;49m\u001B[39m.\u001B[39;49m_engine\u001B[39m.\u001B[39;49mget_loc(casted_key)\n\u001B[1;32m   3622\u001B[0m \u001B[39mexcept\u001B[39;00m \u001B[39mKeyError\u001B[39;00m \u001B[39mas\u001B[39;00m err:\n",
      "File \u001B[0;32m~/codebasics/lib/python3.8/site-packages/pandas/_libs/index.pyx:136\u001B[0m, in \u001B[0;36mpandas._libs.index.IndexEngine.get_loc\u001B[0;34m()\u001B[0m\n",
      "File \u001B[0;32m~/codebasics/lib/python3.8/site-packages/pandas/_libs/index.pyx:163\u001B[0m, in \u001B[0;36mpandas._libs.index.IndexEngine.get_loc\u001B[0;34m()\u001B[0m\n",
      "File \u001B[0;32mpandas/_libs/hashtable_class_helper.pxi:5198\u001B[0m, in \u001B[0;36mpandas._libs.hashtable.PyObjectHashTable.get_item\u001B[0;34m()\u001B[0m\n",
      "File \u001B[0;32mpandas/_libs/hashtable_class_helper.pxi:5206\u001B[0m, in \u001B[0;36mpandas._libs.hashtable.PyObjectHashTable.get_item\u001B[0;34m()\u001B[0m\n",
      "\u001B[0;31mKeyError\u001B[0m: 'Axes'",
      "\nThe above exception was the direct cause of the following exception:\n",
      "\u001B[0;31mKeyError\u001B[0m                                  Traceback (most recent call last)",
      "\u001B[1;32m/Users/haleyk/Documents/RoboDK/Python_Libraries_for_RoboDK/dataframe.ipynb Cell 4\u001B[0m in \u001B[0;36m<cell line: 1>\u001B[0;34m()\u001B[0m\n\u001B[0;32m----> <a href='vscode-notebook-cell:/Users/haleyk/Documents/RoboDK/Python_Libraries_for_RoboDK/dataframe.ipynb#W3sZmlsZQ%3D%3D?line=0'>1</a>\u001B[0m plt\u001B[39m.\u001B[39mscatter(df1[\u001B[39m'\u001B[39;49m\u001B[39mAxes\u001B[39;49m\u001B[39m'\u001B[39;49m], df1[\u001B[39m'\u001B[39m\u001B[39mBrand\u001B[39m\u001B[39m'\u001B[39m])\n\u001B[1;32m      <a href='vscode-notebook-cell:/Users/haleyk/Documents/RoboDK/Python_Libraries_for_RoboDK/dataframe.ipynb#W3sZmlsZQ%3D%3D?line=1'>2</a>\u001B[0m plt\u001B[39m.\u001B[39mxlabel(\u001B[39m'\u001B[39m\u001B[39mAxes\u001B[39m\u001B[39m'\u001B[39m)\n\u001B[1;32m      <a href='vscode-notebook-cell:/Users/haleyk/Documents/RoboDK/Python_Libraries_for_RoboDK/dataframe.ipynb#W3sZmlsZQ%3D%3D?line=2'>3</a>\u001B[0m plt\u001B[39m.\u001B[39mylabel(\u001B[39m'\u001B[39m\u001B[39mBrand\u001B[39m\u001B[39m'\u001B[39m)\n",
      "File \u001B[0;32m~/codebasics/lib/python3.8/site-packages/pandas/core/frame.py:3505\u001B[0m, in \u001B[0;36mDataFrame.__getitem__\u001B[0;34m(self, key)\u001B[0m\n\u001B[1;32m   3503\u001B[0m \u001B[39mif\u001B[39;00m \u001B[39mself\u001B[39m\u001B[39m.\u001B[39mcolumns\u001B[39m.\u001B[39mnlevels \u001B[39m>\u001B[39m \u001B[39m1\u001B[39m:\n\u001B[1;32m   3504\u001B[0m     \u001B[39mreturn\u001B[39;00m \u001B[39mself\u001B[39m\u001B[39m.\u001B[39m_getitem_multilevel(key)\n\u001B[0;32m-> 3505\u001B[0m indexer \u001B[39m=\u001B[39m \u001B[39mself\u001B[39;49m\u001B[39m.\u001B[39;49mcolumns\u001B[39m.\u001B[39;49mget_loc(key)\n\u001B[1;32m   3506\u001B[0m \u001B[39mif\u001B[39;00m is_integer(indexer):\n\u001B[1;32m   3507\u001B[0m     indexer \u001B[39m=\u001B[39m [indexer]\n",
      "File \u001B[0;32m~/codebasics/lib/python3.8/site-packages/pandas/core/indexes/base.py:3623\u001B[0m, in \u001B[0;36mIndex.get_loc\u001B[0;34m(self, key, method, tolerance)\u001B[0m\n\u001B[1;32m   3621\u001B[0m     \u001B[39mreturn\u001B[39;00m \u001B[39mself\u001B[39m\u001B[39m.\u001B[39m_engine\u001B[39m.\u001B[39mget_loc(casted_key)\n\u001B[1;32m   3622\u001B[0m \u001B[39mexcept\u001B[39;00m \u001B[39mKeyError\u001B[39;00m \u001B[39mas\u001B[39;00m err:\n\u001B[0;32m-> 3623\u001B[0m     \u001B[39mraise\u001B[39;00m \u001B[39mKeyError\u001B[39;00m(key) \u001B[39mfrom\u001B[39;00m \u001B[39merr\u001B[39;00m\n\u001B[1;32m   3624\u001B[0m \u001B[39mexcept\u001B[39;00m \u001B[39mTypeError\u001B[39;00m:\n\u001B[1;32m   3625\u001B[0m     \u001B[39m# If we have a listlike key, _check_indexing_error will raise\u001B[39;00m\n\u001B[1;32m   3626\u001B[0m     \u001B[39m#  InvalidIndexError. Otherwise we fall through and re-raise\u001B[39;00m\n\u001B[1;32m   3627\u001B[0m     \u001B[39m#  the TypeError.\u001B[39;00m\n\u001B[1;32m   3628\u001B[0m     \u001B[39mself\u001B[39m\u001B[39m.\u001B[39m_check_indexing_error(key)\n",
      "\u001B[0;31mKeyError\u001B[0m: 'Axes'"
     ]
    }
   ],
   "source": [
    "plt.scatter(df1['Axes'], df1['Brand'])\n",
    "plt.xlabel('Axes')\n",
    "plt.ylabel('Brand')"
   ]
  },
  {
   "cell_type": "code",
   "execution_count": null,
   "metadata": {
    "pycharm": {
     "name": "#%%\n"
    }
   },
   "outputs": [],
   "source": []
  },
  {
   "cell_type": "code",
   "execution_count": null,
   "metadata": {
    "pycharm": {
     "name": "#%%\n"
    }
   },
   "outputs": [],
   "source": []
  },
  {
   "cell_type": "code",
   "execution_count": null,
   "metadata": {
    "pycharm": {
     "name": "#%%\n"
    }
   },
   "outputs": [],
   "source": []
  },
  {
   "cell_type": "code",
   "execution_count": null,
   "metadata": {
    "pycharm": {
     "name": "#%%\n"
    }
   },
   "outputs": [],
   "source": []
  },
  {
   "cell_type": "code",
   "execution_count": null,
   "metadata": {
    "pycharm": {
     "name": "#%%\n"
    }
   },
   "outputs": [],
   "source": []
  }
 ],
 "metadata": {
  "kernelspec": {
   "display_name": "Python 3.8.12 ('codebasics')",
   "language": "python",
   "name": "python3"
  },
  "language_info": {
   "codemirror_mode": {
    "name": "ipython",
    "version": 3
   },
   "file_extension": ".py",
   "mimetype": "text/x-python",
   "name": "python",
   "nbconvert_exporter": "python",
   "pygments_lexer": "ipython3",
   "version": "3.8.12"
  },
  "orig_nbformat": 4,
  "vscode": {
   "interpreter": {
    "hash": "431248cac49f90a2d4ed37a39ff269f2748451fea3bd4a2a97ed208bf87d0a17"
   }
  }
 },
 "nbformat": 4,
 "nbformat_minor": 2
}